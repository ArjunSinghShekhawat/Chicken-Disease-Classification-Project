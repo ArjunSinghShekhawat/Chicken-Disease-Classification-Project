{
 "cells": [
  {
   "cell_type": "code",
   "execution_count": 1,
   "metadata": {},
   "outputs": [],
   "source": [
    "import os\n",
    "from pathlib import Path\n"
   ]
  },
  {
   "cell_type": "code",
   "execution_count": 7,
   "metadata": {},
   "outputs": [],
   "source": [
    "list_file = [\n",
    "    f\"src/__init__.py\",\n",
    "    f\"src/components/__init__.py\",\n",
    "    f\"src/pipeline/__init__.py\",\n",
    "    f\"src/config/__init__.py\",\n",
    "    f\"src/config/configuration.py\",\n",
    "    f\"src/entity/__init__.py\",\n",
    "    f\"src/constants/__init__.py\",\n",
    "    f\"src/utils/__init__.py\",\n",
    "    f\"src/exception.py\",\n",
    "    f\"src/logger.py\",\n",
    "    f\"params.yaml\",\n",
    "    f\"requirements.txt\",\n",
    "    f\"main.py\",\n",
    "    f\"setup.py\",\n",
    "    f\"README.md\",\n",
    "    f\".gitignore\",\n",
    "    f\"templates/index.html\",\n",
    "    f\"templates/home.html\"\n",
    "]"
   ]
  },
  {
   "cell_type": "code",
   "execution_count": 9,
   "metadata": {},
   "outputs": [],
   "source": [
    "\n",
    "for filepath in list_file:\n",
    "    filepath = Path(filepath)\n",
    "    filedir, filename = os.path.split(filepath)\n",
    "\n",
    "\n",
    "    if filedir !=\"\":\n",
    "        os.makedirs(filedir, exist_ok=True)\n",
    "     \n",
    "\n",
    "    if (not os.path.exists(filepath)) or (os.path.getsize(filepath) == 0):\n",
    "        with open(filepath, \"w\") as f:\n",
    "            pass\n",
    "          \n",
    "\n",
    "\n",
    "    else:\n",
    "        print(f\"{filename} is already exists\")\n"
   ]
  },
  {
   "cell_type": "code",
   "execution_count": 4,
   "metadata": {},
   "outputs": [],
   "source": [
    "s = Path('src/constants/__init__.py')"
   ]
  },
  {
   "cell_type": "code",
   "execution_count": 5,
   "metadata": {},
   "outputs": [
    {
     "data": {
      "text/plain": [
       "('src\\\\constants', '__init__.py')"
      ]
     },
     "execution_count": 5,
     "metadata": {},
     "output_type": "execute_result"
    }
   ],
   "source": [
    "os.path.split(s)"
   ]
  },
  {
   "cell_type": "code",
   "execution_count": null,
   "metadata": {},
   "outputs": [],
   "source": []
  }
 ],
 "metadata": {
  "kernelspec": {
   "display_name": "Python 3",
   "language": "python",
   "name": "python3"
  },
  "language_info": {
   "codemirror_mode": {
    "name": "ipython",
    "version": 3
   },
   "file_extension": ".py",
   "mimetype": "text/x-python",
   "name": "python",
   "nbconvert_exporter": "python",
   "pygments_lexer": "ipython3",
   "version": "3.8.0"
  }
 },
 "nbformat": 4,
 "nbformat_minor": 2
}
